{
 "cells": [
  {
   "cell_type": "code",
   "execution_count": 1,
   "metadata": {},
   "outputs": [],
   "source": [
    "import json"
   ]
  },
  {
   "cell_type": "code",
   "execution_count": 3,
   "metadata": {},
   "outputs": [],
   "source": [
    "file_path = \"/home/dell/Downloads/Updated Python Task.txt\"\n",
    "with open(file_path, 'r') as file:\n",
    "    data = json.load(file)"
   ]
  },
  {
   "cell_type": "code",
   "execution_count": 5,
   "metadata": {},
   "outputs": [
    {
     "data": {
      "text/plain": [
       "{'assignment_results': [{'room_name': 'Royal suite',\n",
       "   'ext_data': {'scan_longitude': -122.3992458,\n",
       "    'scan_latitude': 37.65710296,\n",
       "    'scan_occupancy_from_scan': 4,\n",
       "    'scan_checkin_from_scan': None,\n",
       "    'scan_checkout_from_scan': None,\n",
       "    'taxes': '{ \"TAX\":\"14.70\", \"City tax\":\"4.01\"}'},\n",
       "   'cancellation_policy': 'NON_REFUNDABLE',\n",
       "   'number_of_guests': 2,\n",
       "   'breakfast': 'BREAKFAST',\n",
       "   'shown_price': {'King Studio Suite - Member rate': '75.05',\n",
       "    'King Studio Suite - Non Smoking': '90',\n",
       "    'King Room - Mobility/Hearing Accessible - Non-Smoking': '115.05',\n",
       "    'Queen Suite with Two Queen Beds - Non-Smoking': '112.05'},\n",
       "   'currency': 'USD',\n",
       "   'net_price': {'King Studio Suite - Member rate': '75.05',\n",
       "    'King Studio Suite - Non Smoking': '90',\n",
       "    'King Room - Mobility/Hearing Accessible - Non-Smoking': '115.05',\n",
       "    'Queen Suite with Two Queen Beds - Non-Smoking': '112.05'},\n",
       "   'availability': '',\n",
       "   'ci_date': '2021-02-01',\n",
       "   'co_date': '2021-02-02',\n",
       "   'los': 1,\n",
       "   'site_name': 'booking',\n",
       "   'site_type': 'ota',\n",
       "   'shown_currency': 'USD',\n",
       "   'pos': 'US',\n",
       "   'snapshot_url': ['https://storage.googleapis.com/prod-public-snapshots.gcphosts.net/booking_hotel/202101/60041b12fef076f02f58a8a5%253A%253A27-968117.png']},\n",
       "  {'room_name': 'Royal suite',\n",
       "   'ext_data': {'scan_longitude': -122.3992458,\n",
       "    'scan_latitude': 37.65710296,\n",
       "    'scan_occupancy_from_scan': 4,\n",
       "    'scan_checkin_from_scan': None,\n",
       "    'scan_checkout_from_scan': None,\n",
       "    'taxes': '{ \"TAX\":\"9.99\", \"Vat\":\"10%\"}'},\n",
       "   'cancellation_policy': 'REFUNDABLE:',\n",
       "   'number_of_guests': 4,\n",
       "   'breakfast': 'Full Plate',\n",
       "   'shown_price': {'Kamar Standard Queen': '220', 'Kamar Deluxe Room': 125},\n",
       "   'currency': 'USD',\n",
       "   'net_price': {'Kamar Standard Queen': '220', 'Kamar Deluxe Room': 125},\n",
       "   'availability': 'Not Available',\n",
       "   'ci_date': '2021-02-01',\n",
       "   'co_date': '2021-02-02',\n",
       "   'los': 1,\n",
       "   'site_name': 'booking',\n",
       "   'site_type': 'ota',\n",
       "   'shown_currency': 'USD',\n",
       "   'pos': 'US',\n",
       "   'snapshot_url': ['https://storage.googleapis.com/prod-public-snapshots.gcphosts.net/booking_hotel/202101/60041b12fef076f02f58a8a5%253A%253A27-968117.png']},\n",
       "  {'room_name': 'Kamar King Suite',\n",
       "   'ext_data': {'scan_longitude': -122.3992458,\n",
       "    'scan_latitude': 37.65710296,\n",
       "    'scan_occupancy_from_scan': 4,\n",
       "    'scan_checkin_from_scan': None,\n",
       "    'scan_checkout_from_scan': None,\n",
       "    'taxes': '{ \"TAX\":\"9.99\", \"Vat\":\"5%\"}'},\n",
       "   'cancellation_policy': 'Guests:',\n",
       "   'number_of_guests': 4,\n",
       "   'breakfast': 'included',\n",
       "   'shown_price': {'King Studio Suite - Day time': '250.1',\n",
       "    'King Studio Suite - hour rates': 88},\n",
       "   'currency': 'USD',\n",
       "   'net_price': {'King Studio Suite - Day time': '250.1',\n",
       "    'King Studio Suite - hour rates': 88},\n",
       "   'availability': '',\n",
       "   'ci_date': '2021-02-01',\n",
       "   'co_date': '2021-02-02',\n",
       "   'los': 1,\n",
       "   'site_name': 'booking',\n",
       "   'site_type': 'ota',\n",
       "   'shown_currency': 'USD',\n",
       "   'pos': 'US',\n",
       "   'snapshot_url': ['https://storage.googleapis.com/prod-public-snapshots.gcphosts.net/booking_hotel/202101/60041b12fef076f02f58a8a5%253A%253A27-968117.png']},\n",
       "  {'room_name': 'Kamar Standard Queen',\n",
       "   'ext_data': {'scan_longitude': -122.3992458,\n",
       "    'scan_latitude': 37.65710296,\n",
       "    'scan_occupancy_from_scan': 4,\n",
       "    'scan_checkin_from_scan': None,\n",
       "    'scan_checkout_from_scan': None},\n",
       "   'cancellation_policy': 'Refundable',\n",
       "   'number_of_guests': 4,\n",
       "   'breakfast': 'included',\n",
       "   'shown_price': {'Kamar Standard Twin': '135', 'Kamar Standard Single': 255},\n",
       "   'currency': 'USD',\n",
       "   'net_price': {'Kamar Standard Twin': '135', 'Kamar Standard Single': 255},\n",
       "   'availability': '',\n",
       "   'ci_date': '2021-02-01',\n",
       "   'co_date': '2021-02-02',\n",
       "   'los': 1,\n",
       "   'site_name': 'booking',\n",
       "   'site_type': 'ota',\n",
       "   'shown_currency': 'USD',\n",
       "   'pos': 'US',\n",
       "   'snapshot_url': ['https://storage.googleapis.com/prod-public-snapshots.gcphosts.net/booking_hotel/202101/60041b12fef076f02f58a8a5%253A%253A27-968117.png']}],\n",
       " 'aux_data': {'pid': '4480704',\n",
       "  'input_uniqueness_key': '203628//booking/Home2 Suites by Hilton San Francisco Airport North, CA/[69260]/2021-02-01/2021-02-02/US/en-US/USD///public/Hilton Corporate/group_3//hotel//413962644/',\n",
       "  'pos': 'US',\n",
       "  'los': 1,\n",
       "  'assignment_id': 413962644,\n",
       "  'shop_currency_id': 'USD',\n",
       "  'region': 'North America',\n",
       "  'access_level': 'public',\n",
       "  'name': 'Home2 Suites by Hilton San Francisco Airport North, CA',\n",
       "  'address': 'USA, Home2 Suuites by Hilton-San Francisco Airport North, CA, South San Francisco',\n",
       "  'provider': 'booking',\n",
       "  'customer_name': 'Hilton Corporate',\n",
       "  'scan_level': 'hotel',\n",
       "  'scan_method': 'web',\n",
       "  'fn_hotel_id': 203628,\n",
       "  'scan_date': '2021-01-17',\n",
       "  'deep_link': 'https://www.tiket.com/hotel/indonesia/amaris-hotel-la-codefin-kemang-108001534490311868?checkin=2024-01-29&checkout=2024-01-30&room=1&adult=2',\n",
       "  'hotel_name': 'Amaris Hotel La Codefin Kemang',\n",
       "  'city': 'South San Francisco',\n",
       "  'country': 'USA',\n",
       "  'brand': 'Home2 Suites by Hilton',\n",
       "  'chain': 'Hilton',\n",
       "  'language_id': 'en-US',\n",
       "  'site_hotel_id': '4480704',\n",
       "  'checkin': '2021-02-01',\n",
       "  'checkout': '2021-02-02',\n",
       "  'device': 'web'}}"
      ]
     },
     "execution_count": 5,
     "metadata": {},
     "output_type": "execute_result"
    }
   ],
   "source": [
    "data"
   ]
  },
  {
   "cell_type": "code",
   "execution_count": 6,
   "metadata": {},
   "outputs": [
    {
     "name": "stdout",
     "output_type": "stream",
     "text": [
      "assignment_results\n",
      "aux_data\n"
     ]
    }
   ],
   "source": [
    "for i in data:\n",
    "    print(i)"
   ]
  },
  {
   "cell_type": "code",
   "execution_count": 7,
   "metadata": {},
   "outputs": [
    {
     "name": "stdout",
     "output_type": "stream",
     "text": [
      "{'room_name': 'Royal suite', 'ext_data': {'scan_longitude': -122.3992458, 'scan_latitude': 37.65710296, 'scan_occupancy_from_scan': 4, 'scan_checkin_from_scan': None, 'scan_checkout_from_scan': None, 'taxes': '{ \"TAX\":\"14.70\", \"City tax\":\"4.01\"}'}, 'cancellation_policy': 'NON_REFUNDABLE', 'number_of_guests': 2, 'breakfast': 'BREAKFAST', 'shown_price': {'King Studio Suite - Member rate': '75.05', 'King Studio Suite - Non Smoking': '90', 'King Room - Mobility/Hearing Accessible - Non-Smoking': '115.05', 'Queen Suite with Two Queen Beds - Non-Smoking': '112.05'}, 'currency': 'USD', 'net_price': {'King Studio Suite - Member rate': '75.05', 'King Studio Suite - Non Smoking': '90', 'King Room - Mobility/Hearing Accessible - Non-Smoking': '115.05', 'Queen Suite with Two Queen Beds - Non-Smoking': '112.05'}, 'availability': '', 'ci_date': '2021-02-01', 'co_date': '2021-02-02', 'los': 1, 'site_name': 'booking', 'site_type': 'ota', 'shown_currency': 'USD', 'pos': 'US', 'snapshot_url': ['https://storage.googleapis.com/prod-public-snapshots.gcphosts.net/booking_hotel/202101/60041b12fef076f02f58a8a5%253A%253A27-968117.png']}\n",
      "{'room_name': 'Royal suite', 'ext_data': {'scan_longitude': -122.3992458, 'scan_latitude': 37.65710296, 'scan_occupancy_from_scan': 4, 'scan_checkin_from_scan': None, 'scan_checkout_from_scan': None, 'taxes': '{ \"TAX\":\"9.99\", \"Vat\":\"10%\"}'}, 'cancellation_policy': 'REFUNDABLE:', 'number_of_guests': 4, 'breakfast': 'Full Plate', 'shown_price': {'Kamar Standard Queen': '220', 'Kamar Deluxe Room': 125}, 'currency': 'USD', 'net_price': {'Kamar Standard Queen': '220', 'Kamar Deluxe Room': 125}, 'availability': 'Not Available', 'ci_date': '2021-02-01', 'co_date': '2021-02-02', 'los': 1, 'site_name': 'booking', 'site_type': 'ota', 'shown_currency': 'USD', 'pos': 'US', 'snapshot_url': ['https://storage.googleapis.com/prod-public-snapshots.gcphosts.net/booking_hotel/202101/60041b12fef076f02f58a8a5%253A%253A27-968117.png']}\n",
      "{'room_name': 'Kamar King Suite', 'ext_data': {'scan_longitude': -122.3992458, 'scan_latitude': 37.65710296, 'scan_occupancy_from_scan': 4, 'scan_checkin_from_scan': None, 'scan_checkout_from_scan': None, 'taxes': '{ \"TAX\":\"9.99\", \"Vat\":\"5%\"}'}, 'cancellation_policy': 'Guests:', 'number_of_guests': 4, 'breakfast': 'included', 'shown_price': {'King Studio Suite - Day time': '250.1', 'King Studio Suite - hour rates': 88}, 'currency': 'USD', 'net_price': {'King Studio Suite - Day time': '250.1', 'King Studio Suite - hour rates': 88}, 'availability': '', 'ci_date': '2021-02-01', 'co_date': '2021-02-02', 'los': 1, 'site_name': 'booking', 'site_type': 'ota', 'shown_currency': 'USD', 'pos': 'US', 'snapshot_url': ['https://storage.googleapis.com/prod-public-snapshots.gcphosts.net/booking_hotel/202101/60041b12fef076f02f58a8a5%253A%253A27-968117.png']}\n",
      "{'room_name': 'Kamar Standard Queen', 'ext_data': {'scan_longitude': -122.3992458, 'scan_latitude': 37.65710296, 'scan_occupancy_from_scan': 4, 'scan_checkin_from_scan': None, 'scan_checkout_from_scan': None}, 'cancellation_policy': 'Refundable', 'number_of_guests': 4, 'breakfast': 'included', 'shown_price': {'Kamar Standard Twin': '135', 'Kamar Standard Single': 255}, 'currency': 'USD', 'net_price': {'Kamar Standard Twin': '135', 'Kamar Standard Single': 255}, 'availability': '', 'ci_date': '2021-02-01', 'co_date': '2021-02-02', 'los': 1, 'site_name': 'booking', 'site_type': 'ota', 'shown_currency': 'USD', 'pos': 'US', 'snapshot_url': ['https://storage.googleapis.com/prod-public-snapshots.gcphosts.net/booking_hotel/202101/60041b12fef076f02f58a8a5%253A%253A27-968117.png']}\n"
     ]
    }
   ],
   "source": [
    "assignment = data['assignment_results']\n",
    "for i in assignment:\n",
    "    print(i)"
   ]
  },
  {
   "cell_type": "code",
   "execution_count": 8,
   "metadata": {},
   "outputs": [],
   "source": [
    "hotel_details = {\n",
    "    \"hotel name\":data['aux_data']['hotel_name'],\n",
    "    \"city\":data[\"aux_data\"]['city'],\n",
    "    \"country\":data[\"aux_data\"][\"country\"],\n",
    "    \"check in\":data[\"aux_data\"][\"checkin\"],\n",
    "    \"checkout\":data[\"aux_data\"][\"checkout\"]\n",
    "}"
   ]
  },
  {
   "cell_type": "code",
   "execution_count": 10,
   "metadata": {},
   "outputs": [],
   "source": [
    "rooms =[]\n",
    "for i in data[\"assignment_results\"]:\n",
    "    room_name = i[\"room_name\"]\n",
    "    cancellation_policy = i[\"cancellation_policy\"]\n",
    "    number_of_guests = i[\"number_of_guests\"]\n",
    "    breakfast = i[\"breakfast\"]\n",
    "    net_prices = i[\"net_price\"]\n",
    "    shown_prices = i[\"shown_price\"]\n",
    "\n",
    "\n",
    "    for rate_name, net_price in net_prices.items():\n",
    "        room = {\n",
    "            \"rate_name\": rate_name,\n",
    "            \"room_name\": room_name,\n",
    "            \"cancellation_policy\": cancellation_policy,\n",
    "            \"number_of_guests\": number_of_guests,\n",
    "            \"breakfast\": breakfast,\n",
    "            \"total_price\": \"\",\n",
    "            \"net_price\": net_price,\n",
    "            \"shown_price\": shown_prices[rate_name]\n",
    "        }\n",
    "        rooms.append(room)\n"
   ]
  },
  {
   "cell_type": "code",
   "execution_count": 11,
   "metadata": {},
   "outputs": [],
   "source": [
    "output = {\n",
    "    \"hotel_details\": hotel_details,\n",
    "    \"rooms\": rooms\n",
    "}"
   ]
  },
  {
   "cell_type": "code",
   "execution_count": 12,
   "metadata": {},
   "outputs": [
    {
     "data": {
      "text/plain": [
       "{'hotel_details': {'hotel name': 'Amaris Hotel La Codefin Kemang',\n",
       "  'city': 'South San Francisco',\n",
       "  'country': 'USA',\n",
       "  'check in': '2021-02-01',\n",
       "  'checkout': '2021-02-02'},\n",
       " 'rooms': [{'rate_name': 'King Studio Suite - Member rate',\n",
       "   'room_name': 'Royal suite',\n",
       "   'cancellation_policy': 'NON_REFUNDABLE',\n",
       "   'number_of_guests': 2,\n",
       "   'breakfast': 'BREAKFAST',\n",
       "   'total_price': '',\n",
       "   'net_price': '75.05',\n",
       "   'shown_price': '75.05'},\n",
       "  {'rate_name': 'King Studio Suite - Non Smoking',\n",
       "   'room_name': 'Royal suite',\n",
       "   'cancellation_policy': 'NON_REFUNDABLE',\n",
       "   'number_of_guests': 2,\n",
       "   'breakfast': 'BREAKFAST',\n",
       "   'total_price': '',\n",
       "   'net_price': '90',\n",
       "   'shown_price': '90'},\n",
       "  {'rate_name': 'King Room - Mobility/Hearing Accessible - Non-Smoking',\n",
       "   'room_name': 'Royal suite',\n",
       "   'cancellation_policy': 'NON_REFUNDABLE',\n",
       "   'number_of_guests': 2,\n",
       "   'breakfast': 'BREAKFAST',\n",
       "   'total_price': '',\n",
       "   'net_price': '115.05',\n",
       "   'shown_price': '115.05'},\n",
       "  {'rate_name': 'Queen Suite with Two Queen Beds - Non-Smoking',\n",
       "   'room_name': 'Royal suite',\n",
       "   'cancellation_policy': 'NON_REFUNDABLE',\n",
       "   'number_of_guests': 2,\n",
       "   'breakfast': 'BREAKFAST',\n",
       "   'total_price': '',\n",
       "   'net_price': '112.05',\n",
       "   'shown_price': '112.05'},\n",
       "  {'rate_name': 'Kamar Standard Queen',\n",
       "   'room_name': 'Royal suite',\n",
       "   'cancellation_policy': 'REFUNDABLE:',\n",
       "   'number_of_guests': 4,\n",
       "   'breakfast': 'Full Plate',\n",
       "   'total_price': '',\n",
       "   'net_price': '220',\n",
       "   'shown_price': '220'},\n",
       "  {'rate_name': 'Kamar Deluxe Room',\n",
       "   'room_name': 'Royal suite',\n",
       "   'cancellation_policy': 'REFUNDABLE:',\n",
       "   'number_of_guests': 4,\n",
       "   'breakfast': 'Full Plate',\n",
       "   'total_price': '',\n",
       "   'net_price': 125,\n",
       "   'shown_price': 125},\n",
       "  {'rate_name': 'King Studio Suite - Day time',\n",
       "   'room_name': 'Kamar King Suite',\n",
       "   'cancellation_policy': 'Guests:',\n",
       "   'number_of_guests': 4,\n",
       "   'breakfast': 'included',\n",
       "   'total_price': '',\n",
       "   'net_price': '250.1',\n",
       "   'shown_price': '250.1'},\n",
       "  {'rate_name': 'King Studio Suite - hour rates',\n",
       "   'room_name': 'Kamar King Suite',\n",
       "   'cancellation_policy': 'Guests:',\n",
       "   'number_of_guests': 4,\n",
       "   'breakfast': 'included',\n",
       "   'total_price': '',\n",
       "   'net_price': 88,\n",
       "   'shown_price': 88},\n",
       "  {'rate_name': 'Kamar Standard Twin',\n",
       "   'room_name': 'Kamar Standard Queen',\n",
       "   'cancellation_policy': 'Refundable',\n",
       "   'number_of_guests': 4,\n",
       "   'breakfast': 'included',\n",
       "   'total_price': '',\n",
       "   'net_price': '135',\n",
       "   'shown_price': '135'},\n",
       "  {'rate_name': 'Kamar Standard Single',\n",
       "   'room_name': 'Kamar Standard Queen',\n",
       "   'cancellation_policy': 'Refundable',\n",
       "   'number_of_guests': 4,\n",
       "   'breakfast': 'included',\n",
       "   'total_price': '',\n",
       "   'net_price': 255,\n",
       "   'shown_price': 255}]}"
      ]
     },
     "execution_count": 12,
     "metadata": {},
     "output_type": "execute_result"
    }
   ],
   "source": [
    "output"
   ]
  },
  {
   "cell_type": "code",
   "execution_count": null,
   "metadata": {},
   "outputs": [],
   "source": []
  }
 ],
 "metadata": {
  "kernelspec": {
   "display_name": "Python 3",
   "language": "python",
   "name": "python3"
  },
  "language_info": {
   "codemirror_mode": {
    "name": "ipython",
    "version": 3
   },
   "file_extension": ".py",
   "mimetype": "text/x-python",
   "name": "python",
   "nbconvert_exporter": "python",
   "pygments_lexer": "ipython3",
   "version": "3.10.12"
  }
 },
 "nbformat": 4,
 "nbformat_minor": 2
}
